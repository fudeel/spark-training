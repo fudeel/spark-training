{
 "cells": [
  {
   "cell_type": "code",
   "execution_count": 2,
   "metadata": {},
   "outputs": [],
   "source": [
    "from pyspark.sql import SparkSession"
   ]
  },
  {
   "cell_type": "code",
   "execution_count": 3,
   "metadata": {},
   "outputs": [],
   "source": [
    "spark = SparkSession.builder.appName('Basics').getOrCreate()"
   ]
  },
  {
   "cell_type": "code",
   "execution_count": 4,
   "metadata": {},
   "outputs": [],
   "source": [
    "df = spark.read.json('people.json')"
   ]
  },
  {
   "cell_type": "code",
   "execution_count": 5,
   "metadata": {},
   "outputs": [
    {
     "name": "stdout",
     "output_type": "stream",
     "text": [
      "+--------------------+----+--------------------+----------+------+---------------+----------+\n",
      "|     _corrupt_record| age|               email|first_name|gender|     ip_address| last_name|\n",
      "+--------------------+----+--------------------+----------+------+---------------+----------+\n",
      "|[{\"age\":35,\"first...|null|                null|      null|  null|           null|      null|\n",
      "|                null|  31|lpadginton1@syman...|   Lurlene|Female|222.143.240.130| Padginton|\n",
      "|                null|null|smountlow2@cargoc...|    Sabine|Female| 107.65.185.231|  Mountlow|\n",
      "|                null|  31|lconningham3@ftc.gov|    Linnie|Female|227.195.142.226|Conningham|\n",
      "|                null|  35|mtimlett4@hubpage...| Marylynne|Female| 142.232.107.89|   Timlett|\n",
      "|                null|  27|   pbyrd5@meetup.com|    Paxton|  Male|  129.35.218.77|      Byrd|\n",
      "|                null|  36| hfrangione6@nps.gov|     Hally|Female|   214.82.70.53| Frangione|\n",
      "|                null|  27|hshowen7@networks...|Hieronymus|  Male| 251.52.198.117|    Showen|\n",
      "|                null|  15| dwallsworth8@ft.com|     Danya|Female|  80.113.231.56|Wallsworth|\n",
      "|                null|  40|dgillebride9@pbs.org|  Doroteya|Female|    194.5.53.96|Gillebride|\n",
      "|                null|  38|mhalluma@devianta...|      Mile|  Male|  180.35.87.216|    Hallum|\n",
      "|                null|  32|smurdochb@whiteho...|   Stanton|  Male|     2.75.5.206|   Murdoch|\n",
      "|                null|  15|jbewshawc@amazon.com|    Justus|  Male|  195.6.125.254|   Bewshaw|\n",
      "|                null|  33| cwrethamd@lycos.com|      Cati|Female| 41.175.230.224|   Wretham|\n",
      "|                null|  29|bsaurae@whitehous...|    Bordie|  Male|156.223.196.176|     Saura|\n",
      "|                null|  17|mmcwhinneyf@multi...|     Morry|  Male|   188.18.18.76| Mcwhinney|\n",
      "|                null|  31|mshoardg@blinklis...|   Myrlene|Female|  38.167.174.82|    Shoard|\n",
      "|                null|  28|ccubbinih@bloglin...|      Carl|  Male| 149.74.222.112|   Cubbini|\n",
      "|                null|  35|aboultwoodi@wooth...|  Annabell|Female| 84.145.108.191| Boultwood|\n",
      "|                null|  17|    udanej@prweb.com|    Urbain|  Male| 139.48.125.159|      Dane|\n",
      "+--------------------+----+--------------------+----------+------+---------------+----------+\n",
      "only showing top 20 rows\n",
      "\n"
     ]
    }
   ],
   "source": [
    "df.show()"
   ]
  },
  {
   "cell_type": "code",
   "execution_count": 9,
   "metadata": {},
   "outputs": [
    {
     "name": "stdout",
     "output_type": "stream",
     "text": [
      "root\n",
      " |-- _corrupt_record: string (nullable = true)\n",
      " |-- age: long (nullable = true)\n",
      " |-- email: string (nullable = true)\n",
      " |-- first_name: string (nullable = true)\n",
      " |-- gender: string (nullable = true)\n",
      " |-- ip_address: string (nullable = true)\n",
      " |-- last_name: string (nullable = true)\n",
      "\n"
     ]
    }
   ],
   "source": [
    "df.printSchema()"
   ]
  },
  {
   "cell_type": "code",
   "execution_count": 11,
   "metadata": {},
   "outputs": [
    {
     "data": {
      "text/plain": [
       "['_corrupt_record',\n",
       " 'age',\n",
       " 'email',\n",
       " 'first_name',\n",
       " 'gender',\n",
       " 'ip_address',\n",
       " 'last_name']"
      ]
     },
     "execution_count": 11,
     "metadata": {},
     "output_type": "execute_result"
    }
   ],
   "source": [
    "df.columns"
   ]
  },
  {
   "cell_type": "code",
   "execution_count": 15,
   "metadata": {},
   "outputs": [
    {
     "name": "stdout",
     "output_type": "stream",
     "text": [
      "+-------+--------------------+-----------------+--------------------+----------+------+-------------+---------+\n",
      "|summary|     _corrupt_record|              age|               email|first_name|gender|   ip_address|last_name|\n",
      "+-------+--------------------+-----------------+--------------------+----------+------+-------------+---------+\n",
      "|  count|                   1|              936|                 999|       999|   999|          999|      999|\n",
      "|   mean|                null|27.39957264957265|                null|       NaN|  null|         null|     null|\n",
      "| stddev|                null|  7.6761008253766|                null|       NaN|  null|         null|     null|\n",
      "|    min|[{\"age\":35,\"first...|               15|aackroyd8j@tripad...|       Abe|Female| 0.122.189.16|  Aartsen|\n",
      "|    max|[{\"age\":35,\"first...|               40|zshaldersgt@nsw.g...|    Zorina|  Male|99.81.156.141| de Amaya|\n",
      "+-------+--------------------+-----------------+--------------------+----------+------+-------------+---------+\n",
      "\n"
     ]
    }
   ],
   "source": [
    "df.describe().show()"
   ]
  },
  {
   "cell_type": "code",
   "execution_count": 19,
   "metadata": {},
   "outputs": [],
   "source": [
    "from pyspark.sql.types import (StructField, StructType, StringType, IntegerType)"
   ]
  },
  {
   "cell_type": "code",
   "execution_count": 25,
   "metadata": {},
   "outputs": [],
   "source": [
    "data_schema = [StructField('age', IntegerType(), True), StructField('first_name', StringType(), True)]"
   ]
  },
  {
   "cell_type": "code",
   "execution_count": 26,
   "metadata": {},
   "outputs": [],
   "source": [
    "final_data_struct = StructType(fields = data_schema)"
   ]
  },
  {
   "cell_type": "code",
   "execution_count": 29,
   "metadata": {},
   "outputs": [],
   "source": [
    "df = spark.read.json('people.json', schema=final_data_struct)"
   ]
  },
  {
   "cell_type": "code",
   "execution_count": 31,
   "metadata": {},
   "outputs": [
    {
     "name": "stdout",
     "output_type": "stream",
     "text": [
      "root\n",
      " |-- age: integer (nullable = true)\n",
      " |-- first_name: string (nullable = true)\n",
      "\n"
     ]
    }
   ],
   "source": [
    "df.printSchema()"
   ]
  },
  {
   "cell_type": "code",
   "execution_count": 33,
   "metadata": {},
   "outputs": [
    {
     "name": "stdout",
     "output_type": "stream",
     "text": [
      "+-------+-----------------+----------+\n",
      "|summary|              age|first_name|\n",
      "+-------+-----------------+----------+\n",
      "|  count|              936|       999|\n",
      "|   mean|27.39957264957265|       NaN|\n",
      "| stddev|  7.6761008253766|       NaN|\n",
      "|    min|               15|       Abe|\n",
      "|    max|               40|    Zorina|\n",
      "+-------+-----------------+----------+\n",
      "\n"
     ]
    }
   ],
   "source": [
    "df.describe().show()"
   ]
  },
  {
   "cell_type": "code",
   "execution_count": 35,
   "metadata": {},
   "outputs": [
    {
     "data": {
      "text/plain": [
       "pyspark.sql.column.Column"
      ]
     },
     "execution_count": 35,
     "metadata": {},
     "output_type": "execute_result"
    }
   ],
   "source": [
    "type(df['age'])"
   ]
  },
  {
   "cell_type": "code",
   "execution_count": 38,
   "metadata": {},
   "outputs": [
    {
     "name": "stdout",
     "output_type": "stream",
     "text": [
      "+----+\n",
      "| age|\n",
      "+----+\n",
      "|null|\n",
      "|  31|\n",
      "|null|\n",
      "|  31|\n",
      "|  35|\n",
      "|  27|\n",
      "|  36|\n",
      "|  27|\n",
      "|  15|\n",
      "|  40|\n",
      "|  38|\n",
      "|  32|\n",
      "|  15|\n",
      "|  33|\n",
      "|  29|\n",
      "|  17|\n",
      "|  31|\n",
      "|  28|\n",
      "|  35|\n",
      "|  17|\n",
      "+----+\n",
      "only showing top 20 rows\n",
      "\n"
     ]
    }
   ],
   "source": [
    "df.select('age').show()"
   ]
  },
  {
   "cell_type": "code",
   "execution_count": 42,
   "metadata": {},
   "outputs": [
    {
     "data": {
      "text/plain": [
       "Row(age=None, first_name=None)"
      ]
     },
     "execution_count": 42,
     "metadata": {},
     "output_type": "execute_result"
    }
   ],
   "source": [
    "df.head(3)[0]"
   ]
  },
  {
   "cell_type": "code",
   "execution_count": 47,
   "metadata": {},
   "outputs": [
    {
     "name": "stdout",
     "output_type": "stream",
     "text": [
      "+----+----------+\n",
      "| age|first_name|\n",
      "+----+----------+\n",
      "|null|      null|\n",
      "|  31|   Lurlene|\n",
      "|null|    Sabine|\n",
      "|  31|    Linnie|\n",
      "|  35| Marylynne|\n",
      "|  27|    Paxton|\n",
      "|  36|     Hally|\n",
      "|  27|Hieronymus|\n",
      "|  15|     Danya|\n",
      "|  40|  Doroteya|\n",
      "|  38|      Mile|\n",
      "|  32|   Stanton|\n",
      "|  15|    Justus|\n",
      "|  33|      Cati|\n",
      "|  29|    Bordie|\n",
      "|  17|     Morry|\n",
      "|  31|   Myrlene|\n",
      "|  28|      Carl|\n",
      "|  35|  Annabell|\n",
      "|  17|    Urbain|\n",
      "+----+----------+\n",
      "only showing top 20 rows\n",
      "\n"
     ]
    }
   ],
   "source": [
    "df.select(['age', 'first_name']).show()"
   ]
  },
  {
   "cell_type": "code",
   "execution_count": 49,
   "metadata": {},
   "outputs": [
    {
     "name": "stdout",
     "output_type": "stream",
     "text": [
      "+----+----------+-------+\n",
      "| age|first_name|new_age|\n",
      "+----+----------+-------+\n",
      "|null|      null|   null|\n",
      "|  31|   Lurlene|     31|\n",
      "|null|    Sabine|   null|\n",
      "|  31|    Linnie|     31|\n",
      "|  35| Marylynne|     35|\n",
      "|  27|    Paxton|     27|\n",
      "|  36|     Hally|     36|\n",
      "|  27|Hieronymus|     27|\n",
      "|  15|     Danya|     15|\n",
      "|  40|  Doroteya|     40|\n",
      "|  38|      Mile|     38|\n",
      "|  32|   Stanton|     32|\n",
      "|  15|    Justus|     15|\n",
      "|  33|      Cati|     33|\n",
      "|  29|    Bordie|     29|\n",
      "|  17|     Morry|     17|\n",
      "|  31|   Myrlene|     31|\n",
      "|  28|      Carl|     28|\n",
      "|  35|  Annabell|     35|\n",
      "|  17|    Urbain|     17|\n",
      "+----+----------+-------+\n",
      "only showing top 20 rows\n",
      "\n"
     ]
    }
   ],
   "source": [
    "df.withColumn('new_age', df['age']).show()"
   ]
  },
  {
   "cell_type": "code",
   "execution_count": 55,
   "metadata": {},
   "outputs": [
    {
     "name": "stdout",
     "output_type": "stream",
     "text": [
      "+----+----------+\n",
      "| età|first_name|\n",
      "+----+----------+\n",
      "|null|      null|\n",
      "|  31|   Lurlene|\n",
      "|null|    Sabine|\n",
      "|  31|    Linnie|\n",
      "|  35| Marylynne|\n",
      "|  27|    Paxton|\n",
      "|  36|     Hally|\n",
      "|  27|Hieronymus|\n",
      "|  15|     Danya|\n",
      "|  40|  Doroteya|\n",
      "|  38|      Mile|\n",
      "|  32|   Stanton|\n",
      "|  15|    Justus|\n",
      "|  33|      Cati|\n",
      "|  29|    Bordie|\n",
      "|  17|     Morry|\n",
      "|  31|   Myrlene|\n",
      "|  28|      Carl|\n",
      "|  35|  Annabell|\n",
      "|  17|    Urbain|\n",
      "+----+----------+\n",
      "only showing top 20 rows\n",
      "\n"
     ]
    }
   ],
   "source": [
    "df.withColumnRenamed('age', 'età').show()"
   ]
  },
  {
   "cell_type": "code",
   "execution_count": 57,
   "metadata": {},
   "outputs": [
    {
     "name": "stdout",
     "output_type": "stream",
     "text": [
      "+----+----------+\n",
      "| age|first_name|\n",
      "+----+----------+\n",
      "|null|      null|\n",
      "|  31|   Lurlene|\n",
      "|null|    Sabine|\n",
      "|  31|    Linnie|\n",
      "|  35| Marylynne|\n",
      "|  27|    Paxton|\n",
      "|  36|     Hally|\n",
      "|  27|Hieronymus|\n",
      "|  15|     Danya|\n",
      "|  40|  Doroteya|\n",
      "|  38|      Mile|\n",
      "|  32|   Stanton|\n",
      "|  15|    Justus|\n",
      "|  33|      Cati|\n",
      "|  29|    Bordie|\n",
      "|  17|     Morry|\n",
      "|  31|   Myrlene|\n",
      "|  28|      Carl|\n",
      "|  35|  Annabell|\n",
      "|  17|    Urbain|\n",
      "+----+----------+\n",
      "only showing top 20 rows\n",
      "\n"
     ]
    }
   ],
   "source": [
    "df.show()"
   ]
  },
  {
   "cell_type": "code",
   "execution_count": 61,
   "metadata": {},
   "outputs": [
    {
     "name": "stdout",
     "output_type": "stream",
     "text": [
      "+----+----------+-------------+\n",
      "| age|first_name|ten_years_ago|\n",
      "+----+----------+-------------+\n",
      "|null|      null|         null|\n",
      "|  31|   Lurlene|           21|\n",
      "|null|    Sabine|         null|\n",
      "|  31|    Linnie|           21|\n",
      "|  35| Marylynne|           25|\n",
      "|  27|    Paxton|           17|\n",
      "|  36|     Hally|           26|\n",
      "|  27|Hieronymus|           17|\n",
      "|  15|     Danya|            5|\n",
      "|  40|  Doroteya|           30|\n",
      "|  38|      Mile|           28|\n",
      "|  32|   Stanton|           22|\n",
      "|  15|    Justus|            5|\n",
      "|  33|      Cati|           23|\n",
      "|  29|    Bordie|           19|\n",
      "|  17|     Morry|            7|\n",
      "|  31|   Myrlene|           21|\n",
      "|  28|      Carl|           18|\n",
      "|  35|  Annabell|           25|\n",
      "|  17|    Urbain|            7|\n",
      "+----+----------+-------------+\n",
      "only showing top 20 rows\n",
      "\n"
     ]
    }
   ],
   "source": [
    "df.withColumn('ten_years_ago', df['age'] - 10).show()"
   ]
  },
  {
   "cell_type": "code",
   "execution_count": 63,
   "metadata": {},
   "outputs": [],
   "source": [
    "df_with_new_col = df.withColumn('ten_years_ago', df['age'] - 10)"
   ]
  },
  {
   "cell_type": "code",
   "execution_count": 65,
   "metadata": {},
   "outputs": [
    {
     "name": "stdout",
     "output_type": "stream",
     "text": [
      "+----+----------+-------------+\n",
      "| age|first_name|ten_years_ago|\n",
      "+----+----------+-------------+\n",
      "|null|      null|         null|\n",
      "|  31|   Lurlene|           21|\n",
      "|null|    Sabine|         null|\n",
      "|  31|    Linnie|           21|\n",
      "|  35| Marylynne|           25|\n",
      "|  27|    Paxton|           17|\n",
      "|  36|     Hally|           26|\n",
      "|  27|Hieronymus|           17|\n",
      "|  15|     Danya|            5|\n",
      "|  40|  Doroteya|           30|\n",
      "|  38|      Mile|           28|\n",
      "|  32|   Stanton|           22|\n",
      "|  15|    Justus|            5|\n",
      "|  33|      Cati|           23|\n",
      "|  29|    Bordie|           19|\n",
      "|  17|     Morry|            7|\n",
      "|  31|   Myrlene|           21|\n",
      "|  28|      Carl|           18|\n",
      "|  35|  Annabell|           25|\n",
      "|  17|    Urbain|            7|\n",
      "+----+----------+-------------+\n",
      "only showing top 20 rows\n",
      "\n"
     ]
    }
   ],
   "source": [
    "df_with_new_col.show()"
   ]
  },
  {
   "cell_type": "code",
   "execution_count": 67,
   "metadata": {},
   "outputs": [],
   "source": [
    "df_with_new_col.createOrReplaceTempView('people')"
   ]
  },
  {
   "cell_type": "code",
   "execution_count": 87,
   "metadata": {},
   "outputs": [
    {
     "name": "stdout",
     "output_type": "stream",
     "text": [
      "+---+----------+-------------+\n",
      "|age|first_name|ten_years_ago|\n",
      "+---+----------+-------------+\n",
      "| 31|   Lurlene|           21|\n",
      "| 31|    Linnie|           21|\n",
      "| 35| Marylynne|           25|\n",
      "| 27|    Paxton|           17|\n",
      "| 36|     Hally|           26|\n",
      "| 27|Hieronymus|           17|\n",
      "| 15|     Danya|            5|\n",
      "| 40|  Doroteya|           30|\n",
      "| 38|      Mile|           28|\n",
      "| 32|   Stanton|           22|\n",
      "| 15|    Justus|            5|\n",
      "| 33|      Cati|           23|\n",
      "| 29|    Bordie|           19|\n",
      "| 17|     Morry|            7|\n",
      "| 31|   Myrlene|           21|\n",
      "| 28|      Carl|           18|\n",
      "| 35|  Annabell|           25|\n",
      "| 17|    Urbain|            7|\n",
      "| 26|  Domenico|           16|\n",
      "| 20|  Ludovika|           10|\n",
      "+---+----------+-------------+\n",
      "only showing top 20 rows\n",
      "\n"
     ]
    }
   ],
   "source": [
    "result = spark.sql('SELECT * FROM people WHERE ten_years_ago > 0').show()"
   ]
  }
 ],
 "metadata": {
  "kernelspec": {
   "display_name": "Python 3",
   "language": "python",
   "name": "python3"
  },
  "language_info": {
   "codemirror_mode": {
    "name": "ipython",
    "version": 3
   },
   "file_extension": ".py",
   "mimetype": "text/x-python",
   "name": "python",
   "nbconvert_exporter": "python",
   "pygments_lexer": "ipython3",
   "version": "3.9.0"
  }
 },
 "nbformat": 4,
 "nbformat_minor": 4
}
