{
 "cells": [
  {
   "cell_type": "code",
   "execution_count": 1,
   "metadata": {},
   "outputs": [],
   "source": [
    "from pyspark.sql import SparkSession"
   ]
  },
  {
   "cell_type": "code",
   "execution_count": 2,
   "metadata": {},
   "outputs": [],
   "source": [
    "s = SparkSession.builder.appName('MIssing data').getOrCreate()"
   ]
  },
  {
   "cell_type": "code",
   "execution_count": 16,
   "metadata": {},
   "outputs": [],
   "source": [
    "df = s.read.csv('people_with_blank.csv', inferSchema=True, header=True)"
   ]
  },
  {
   "cell_type": "code",
   "execution_count": 18,
   "metadata": {},
   "outputs": [
    {
     "name": "stdout",
     "output_type": "stream",
     "text": [
      "+-------------------+------+---+\n",
      "|               name|gender|age|\n",
      "+-------------------+------+---+\n",
      "|        Waly Seyler|Female| 23|\n",
      "|      Myrna O' Mara|Female| 28|\n",
      "|    Alasteir Headon|  Male| 35|\n",
      "|               null|  null| 29|\n",
      "|    Beryle McGuiney|Female| 19|\n",
      "|               null|  null| 17|\n",
      "|         Goldy Mays|Female| 21|\n",
      "|Marcos Jedrachowicz|  Male| 21|\n",
      "|     Hettie Pennone|Female| 15|\n",
      "|       Ferdy Paulou|  Male| 25|\n",
      "|        Raff Leaves|  Male| 34|\n",
      "|    Salaidh Giraudo|Female| 18|\n",
      "|               null|  null| 31|\n",
      "|        Alena Vater|Female| 24|\n",
      "|   Humphrey Pleavin|  Male| 19|\n",
      "|      Philis Koeppe|Female| 34|\n",
      "|   Giovanni Denslow|  Male| 24|\n",
      "|       Lilah Yersin|Female| 34|\n",
      "|   Poppy Danielsson|Female| 27|\n",
      "|     Ario Torricina|  Male| 35|\n",
      "+-------------------+------+---+\n",
      "only showing top 20 rows\n",
      "\n"
     ]
    }
   ],
   "source": [
    "df.na.drop(how='all').show()"
   ]
  },
  {
   "cell_type": "code",
   "execution_count": 21,
   "metadata": {},
   "outputs": [
    {
     "name": "stdout",
     "output_type": "stream",
     "text": [
      "+-------------------+------+---+\n",
      "|               name|gender|age|\n",
      "+-------------------+------+---+\n",
      "|        Waly Seyler|Female| 23|\n",
      "|      Myrna O' Mara|Female| 28|\n",
      "|    Alasteir Headon|  Male| 35|\n",
      "|               null|  null| 29|\n",
      "|    Beryle McGuiney|Female| 19|\n",
      "|               null|  null| 17|\n",
      "|         Goldy Mays|Female| 21|\n",
      "|Marcos Jedrachowicz|  Male| 21|\n",
      "|     Hettie Pennone|Female| 15|\n",
      "|       Ferdy Paulou|  Male| 25|\n",
      "|        Raff Leaves|  Male| 34|\n",
      "|    Salaidh Giraudo|Female| 18|\n",
      "|               null|  null| 31|\n",
      "|        Alena Vater|Female| 24|\n",
      "|   Humphrey Pleavin|  Male| 19|\n",
      "|      Philis Koeppe|Female| 34|\n",
      "|   Giovanni Denslow|  Male| 24|\n",
      "|       Lilah Yersin|Female| 34|\n",
      "|   Poppy Danielsson|Female| 27|\n",
      "|     Ario Torricina|  Male| 35|\n",
      "+-------------------+------+---+\n",
      "only showing top 20 rows\n",
      "\n"
     ]
    }
   ],
   "source": [
    "df.show()"
   ]
  },
  {
   "cell_type": "code",
   "execution_count": 23,
   "metadata": {},
   "outputs": [],
   "source": [
    "from pyspark.sql.functions import mean"
   ]
  },
  {
   "cell_type": "code",
   "execution_count": 28,
   "metadata": {},
   "outputs": [],
   "source": [
    "# numero maschi e numero femmine"
   ]
  },
  {
   "cell_type": "code",
   "execution_count": 52,
   "metadata": {},
   "outputs": [],
   "source": [
    "m = df.filter(df['gender'] == 'Male').count()"
   ]
  },
  {
   "cell_type": "code",
   "execution_count": 53,
   "metadata": {},
   "outputs": [],
   "source": [
    "f = df.filter(df['gender'] == 'Female').count()"
   ]
  },
  {
   "cell_type": "code",
   "execution_count": 57,
   "metadata": {},
   "outputs": [],
   "source": [
    "total_mf = m + f"
   ]
  },
  {
   "cell_type": "code",
   "execution_count": 58,
   "metadata": {},
   "outputs": [
    {
     "name": "stdout",
     "output_type": "stream",
     "text": [
      "{'male': 451} {'female': 486} {'total': 937}\n"
     ]
    }
   ],
   "source": [
    "print({'male': m}, {'female': f}, {'total': total_mf})"
   ]
  },
  {
   "cell_type": "code",
   "execution_count": 60,
   "metadata": {},
   "outputs": [
    {
     "name": "stdout",
     "output_type": "stream",
     "text": [
      "0.9279835390946503\n"
     ]
    }
   ],
   "source": [
    "print(m/f)"
   ]
  },
  {
   "cell_type": "code",
   "execution_count": 126,
   "metadata": {},
   "outputs": [
    {
     "name": "stdout",
     "output_type": "stream",
     "text": [
      "Female\n"
     ]
    }
   ],
   "source": [
    "import random\n",
    "def createGender(m, f):\n",
    "    choices = ['Male', 'Female']\n",
    "    replacement = random.choices(choices, weights=(m/f, f/m), k=1)\n",
    "    return replacement[0]\n",
    "\n",
    "print(createGender(m, f))\n"
   ]
  },
  {
   "cell_type": "code",
   "execution_count": 176,
   "metadata": {},
   "outputs": [
    {
     "name": "stdout",
     "output_type": "stream",
     "text": [
      "+-------------------+------+---+\n",
      "|               name|gender|age|\n",
      "+-------------------+------+---+\n",
      "|        Waly Seyler|Female| 23|\n",
      "|      Myrna O' Mara|Female| 28|\n",
      "|    Alasteir Headon|  Male| 35|\n",
      "|               null|Female| 29|\n",
      "|    Beryle McGuiney|Female| 19|\n",
      "|               null|Female| 17|\n",
      "|         Goldy Mays|Female| 21|\n",
      "|Marcos Jedrachowicz|  Male| 21|\n",
      "|     Hettie Pennone|Female| 15|\n",
      "|       Ferdy Paulou|  Male| 25|\n",
      "|        Raff Leaves|  Male| 34|\n",
      "|    Salaidh Giraudo|Female| 18|\n",
      "|               null|Female| 31|\n",
      "|        Alena Vater|Female| 24|\n",
      "|   Humphrey Pleavin|  Male| 19|\n",
      "|      Philis Koeppe|Female| 34|\n",
      "|   Giovanni Denslow|  Male| 24|\n",
      "|       Lilah Yersin|Female| 34|\n",
      "|   Poppy Danielsson|Female| 27|\n",
      "|     Ario Torricina|  Male| 35|\n",
      "+-------------------+------+---+\n",
      "only showing top 20 rows\n",
      "\n"
     ]
    }
   ],
   "source": [
    "df.na.fill(createGender(m, f), subset=['gender']).show()"
   ]
  },
  {
   "cell_type": "code",
   "execution_count": null,
   "metadata": {},
   "outputs": [],
   "source": []
  }
 ],
 "metadata": {
  "kernelspec": {
   "display_name": "Python 3",
   "language": "python",
   "name": "python3"
  },
  "language_info": {
   "codemirror_mode": {
    "name": "ipython",
    "version": 3
   },
   "file_extension": ".py",
   "mimetype": "text/x-python",
   "name": "python",
   "nbconvert_exporter": "python",
   "pygments_lexer": "ipython3",
   "version": "3.9.0"
  }
 },
 "nbformat": 4,
 "nbformat_minor": 4
}
