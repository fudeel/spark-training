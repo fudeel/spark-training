{
 "cells": [
  {
   "cell_type": "code",
   "execution_count": 22,
   "metadata": {},
   "outputs": [],
   "source": [
    "from pyspark.sql import SparkSession\n",
    "from pyspark.sql.functions import mean, stddev"
   ]
  },
  {
   "cell_type": "code",
   "execution_count": 23,
   "metadata": {},
   "outputs": [],
   "source": [
    "s = SparkSession.builder.appName('apple_stock').getOrCreate()"
   ]
  },
  {
   "cell_type": "code",
   "execution_count": 40,
   "metadata": {},
   "outputs": [],
   "source": [
    "df = s.read.csv('apple_stock.csv', inferSchema=True, header=True)"
   ]
  },
  {
   "cell_type": "code",
   "execution_count": 41,
   "metadata": {},
   "outputs": [
    {
     "name": "stdout",
     "output_type": "stream",
     "text": [
      "51.055\n"
     ]
    }
   ],
   "source": [
    "avg_price = df.select(mean('price')).collect()[0][0]\n",
    "print(avg_price)"
   ]
  },
  {
   "cell_type": "code",
   "execution_count": 42,
   "metadata": {},
   "outputs": [
    {
     "data": {
      "text/plain": [
       "Row(date='2014-07-21 14:57:03', open=67, close=43, high=53, low=32, price=53)"
      ]
     },
     "execution_count": 42,
     "metadata": {},
     "output_type": "execute_result"
    }
   ],
   "source": [
    "df.na.fill(avg_price, subset=['price']).collect()[86]"
   ]
  },
  {
   "cell_type": "code",
   "execution_count": 43,
   "metadata": {},
   "outputs": [],
   "source": [
    "from pyspark.sql.functions import *"
   ]
  },
  {
   "cell_type": "code",
   "execution_count": 44,
   "metadata": {},
   "outputs": [
    {
     "name": "stdout",
     "output_type": "stream",
     "text": [
      "+-------+-------------------+------------------+------------------+------------------+------------------+-----------------+\n",
      "|summary|               date|              open|             close|              high|               low|            price|\n",
      "+-------+-------------------+------------------+------------------+------------------+------------------+-----------------+\n",
      "|  count|               1000|              1000|              1000|              1000|              1000|             1000|\n",
      "|   mean|               null|            47.933|            51.707|             50.99|            49.498|           51.055|\n",
      "| stddev|               null|28.235186146663484|29.393045131495004|28.366080704505787|30.016211769125178|28.71847359672387|\n",
      "|    min|2000-11-21 13:43:26|                 1|                 1|                 1|                 1|                1|\n",
      "|    max|2020-10-20 08:56:21|               100|               100|               100|               100|              100|\n",
      "+-------+-------------------+------------------+------------------+------------------+------------------+-----------------+\n",
      "\n"
     ]
    }
   ],
   "source": [
    "df.describe().show()"
   ]
  },
  {
   "cell_type": "code",
   "execution_count": 45,
   "metadata": {},
   "outputs": [
    {
     "name": "stdout",
     "output_type": "stream",
     "text": [
      "+-----------+\n",
      "|month(date)|\n",
      "+-----------+\n",
      "|         11|\n",
      "|          8|\n",
      "|          7|\n",
      "|          1|\n",
      "|         12|\n",
      "|          2|\n",
      "|          2|\n",
      "|          3|\n",
      "|          7|\n",
      "|          2|\n",
      "|          7|\n",
      "|          2|\n",
      "|          5|\n",
      "|         10|\n",
      "|          8|\n",
      "|          6|\n",
      "|          1|\n",
      "|          4|\n",
      "|         12|\n",
      "|         10|\n",
      "+-----------+\n",
      "only showing top 20 rows\n",
      "\n"
     ]
    }
   ],
   "source": [
    "df.select(month(df['date'])).show()"
   ]
  },
  {
   "cell_type": "code",
   "execution_count": 51,
   "metadata": {},
   "outputs": [],
   "source": [
    "new_df = df.withColumn(\"year\",year(df['date']))"
   ]
  },
  {
   "cell_type": "code",
   "execution_count": 62,
   "metadata": {},
   "outputs": [
    {
     "name": "stdout",
     "output_type": "stream",
     "text": [
      "+----+-------------+\n",
      "|year|Average Close|\n",
      "+----+-------------+\n",
      "|2000|        47.57|\n",
      "|2001|        55.62|\n",
      "|2002|        44.16|\n",
      "|2003|        52.43|\n",
      "|2004|        47.38|\n",
      "|2005|        50.83|\n",
      "|2006|        60.37|\n",
      "|2007|        52.60|\n",
      "|2008|        44.19|\n",
      "|2009|        52.45|\n",
      "|2010|        51.46|\n",
      "|2011|        47.75|\n",
      "|2012|        61.61|\n",
      "|2013|        52.88|\n",
      "|2014|        49.90|\n",
      "|2015|        52.64|\n",
      "|2016|        49.39|\n",
      "|2017|        53.12|\n",
      "|2018|        49.32|\n",
      "|2019|        56.81|\n",
      "+----+-------------+\n",
      "only showing top 20 rows\n",
      "\n"
     ]
    }
   ],
   "source": [
    "new_df.groupby(\"year\").mean().select(['year', 'avg(close)']).orderBy('year').withColumnRenamed('avg(close)', 'Average Close').select(['year', format_number('Average Close', 2)]).withColumnRenamed('format_number(Average Close, 2)', 'Average Close').show()"
   ]
  },
  {
   "cell_type": "code",
   "execution_count": null,
   "metadata": {},
   "outputs": [],
   "source": []
  }
 ],
 "metadata": {
  "kernelspec": {
   "display_name": "Python 3",
   "language": "python",
   "name": "python3"
  },
  "language_info": {
   "codemirror_mode": {
    "name": "ipython",
    "version": 3
   },
   "file_extension": ".py",
   "mimetype": "text/x-python",
   "name": "python",
   "nbconvert_exporter": "python",
   "pygments_lexer": "ipython3",
   "version": "3.9.0"
  }
 },
 "nbformat": 4,
 "nbformat_minor": 4
}
