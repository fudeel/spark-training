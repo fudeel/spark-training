{
 "cells": [
  {
   "cell_type": "code",
   "execution_count": 1,
   "metadata": {},
   "outputs": [],
   "source": [
    "from pyspark.sql import SparkSession"
   ]
  },
  {
   "cell_type": "code",
   "execution_count": 2,
   "metadata": {},
   "outputs": [],
   "source": [
    "s = SparkSession.builder.appName('dataframe_3').getOrCreate()"
   ]
  },
  {
   "cell_type": "code",
   "execution_count": 3,
   "metadata": {},
   "outputs": [],
   "source": [
    "df = s.read.csv('sales_info.csv', inferSchema=True, header=True)"
   ]
  },
  {
   "cell_type": "code",
   "execution_count": 4,
   "metadata": {},
   "outputs": [
    {
     "name": "stdout",
     "output_type": "stream",
     "text": [
      "root\n",
      " |-- company: string (nullable = true)\n",
      " |-- full_name: string (nullable = true)\n",
      " |-- sales: integer (nullable = true)\n",
      " |-- sales_value: double (nullable = true)\n",
      "\n"
     ]
    }
   ],
   "source": [
    "df.printSchema()"
   ]
  },
  {
   "cell_type": "code",
   "execution_count": 7,
   "metadata": {},
   "outputs": [
    {
     "name": "stdout",
     "output_type": "stream",
     "text": [
      "+------------+------------------+------------------+\n",
      "|     company|        avg(sales)|  avg(sales_value)|\n",
      "+------------+------------------+------------------+\n",
      "|     Jetwire|33.833333333333336| 462.7033333333333|\n",
      "|    Jaxworks|              26.5| 455.3616666666667|\n",
      "| Brainlounge|             14.25| 794.0575000000001|\n",
      "|    Snaptags|              22.0| 882.7833333333334|\n",
      "|   Reallinks|              15.0|            984.37|\n",
      "|    Skipfire|19.333333333333332| 801.7600000000001|\n",
      "|       Kamba|19.166666666666668| 347.3033333333333|\n",
      "|      Quimba|              19.0|           765.175|\n",
      "|    Realfire|              29.5|197.39000000000001|\n",
      "|      Oyondu|23.666666666666668| 707.1066666666667|\n",
      "|       Quaxo|              23.0|            431.92|\n",
      "|  Browsezoom|             37.25|          175.8775|\n",
      "|      BlogXS|              22.0|            708.14|\n",
      "|Thoughtworks|              22.0|           313.325|\n",
      "|     Voonder|21.333333333333332| 525.8433333333334|\n",
      "|       Yabox|15.333333333333334| 579.7283333333334|\n",
      "|   Babbleset|              42.5|            466.23|\n",
      "|       Einti|31.666666666666668|462.60999999999996|\n",
      "|   Photofeed|              33.2|           694.522|\n",
      "|       Yodoo|19.666666666666668|            314.83|\n",
      "+------------+------------------+------------------+\n",
      "only showing top 20 rows\n",
      "\n"
     ]
    }
   ],
   "source": [
    "df.groupBy(\"company\").mean().show()"
   ]
  },
  {
   "cell_type": "code",
   "execution_count": 10,
   "metadata": {},
   "outputs": [
    {
     "name": "stdout",
     "output_type": "stream",
     "text": [
      "+----------+\n",
      "|sum(sales)|\n",
      "+----------+\n",
      "|     25803|\n",
      "+----------+\n",
      "\n"
     ]
    }
   ],
   "source": [
    "df.agg({'sales': 'sum'}).show()"
   ]
  },
  {
   "cell_type": "code",
   "execution_count": 27,
   "metadata": {},
   "outputs": [],
   "source": [
    "from pyspark.sql.functions import countDistinct, avg, stddev, format_number, format_string"
   ]
  },
  {
   "cell_type": "code",
   "execution_count": 33,
   "metadata": {},
   "outputs": [
    {
     "name": "stdout",
     "output_type": "stream",
     "text": [
      "+------------------------------------------------------------------+\n",
      "|format_number(stddev_samp(sales) AS `Sales Standard Deviation`, 2)|\n",
      "+------------------------------------------------------------------+\n",
      "|                                                             14.51|\n",
      "+------------------------------------------------------------------+\n",
      "\n"
     ]
    }
   ],
   "source": [
    "df.select(format_number(stddev('sales').alias('Sales Standard Deviation'), 2)).show()"
   ]
  },
  {
   "cell_type": "code",
   "execution_count": 39,
   "metadata": {},
   "outputs": [
    {
     "name": "stdout",
     "output_type": "stream",
     "text": [
      "+---------+------------------+-----+-----------+\n",
      "|  company|         full_name|sales|sales_value|\n",
      "+---------+------------------+-----+-----------+\n",
      "| Linktype|        Lek Birdis|   50|     619.85|\n",
      "|  Dabfeed|  Caesar Ivancevic|   50|     640.04|\n",
      "|   Rhyzio|      Jaimie Fayer|   50|     222.76|\n",
      "|  Zoomdog|    Willie Haydney|   50|      57.47|\n",
      "|    Oyoba|      Mable Wyvill|   50|     101.92|\n",
      "|   Voonix|  Abelard Steanyng|   50|     924.42|\n",
      "|   Pixope|    Spike MacPaden|   50|     154.01|\n",
      "|  Jaxspan|  Rosaline Stedson|   50|     225.04|\n",
      "|  Pixoboo|    Mannie Bundock|   50|      13.37|\n",
      "|Topicware|     Say Flacknell|   50|     241.43|\n",
      "|    Vimbo|Bessy Spottiswoode|   50|     722.38|\n",
      "|     Katz|       Dan Hacking|   50|     863.65|\n",
      "|  Jetwire|       Arty Ringer|   50|     968.63|\n",
      "|Edgepulse|    Stavros Scotts|   49|     225.37|\n",
      "| Skipfire|   Jarib Lightwood|   49|     905.61|\n",
      "|   Zooveo|Cristian Shambroke|   49|     824.46|\n",
      "| Digitube|   Ruttger Tredget|   49|     869.58|\n",
      "|    Mynte|     Olivia Cuesta|   49|     190.51|\n",
      "|Skynoodle| Fairleigh Malthus|   49|     357.93|\n",
      "|     Vitz|     Winny Pawlata|   49|     348.67|\n",
      "+---------+------------------+-----+-----------+\n",
      "only showing top 20 rows\n",
      "\n"
     ]
    }
   ],
   "source": [
    "df.orderBy(df['sales'].desc()).show()"
   ]
  }
 ],
 "metadata": {
  "kernelspec": {
   "display_name": "Python 3",
   "language": "python",
   "name": "python3"
  },
  "language_info": {
   "codemirror_mode": {
    "name": "ipython",
    "version": 3
   },
   "file_extension": ".py",
   "mimetype": "text/x-python",
   "name": "python",
   "nbconvert_exporter": "python",
   "pygments_lexer": "ipython3",
   "version": "3.9.0"
  }
 },
 "nbformat": 4,
 "nbformat_minor": 4
}
