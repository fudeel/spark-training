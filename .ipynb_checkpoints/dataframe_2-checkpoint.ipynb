{
 "cells": [
  {
   "cell_type": "code",
   "execution_count": 29,
   "metadata": {},
   "outputs": [],
   "source": [
    "from pyspark.sql import SparkSession"
   ]
  },
  {
   "cell_type": "code",
   "execution_count": 30,
   "metadata": {},
   "outputs": [],
   "source": [
    "s = SparkSession.builder.appName('dataframe_2').getOrCreate()"
   ]
  },
  {
   "cell_type": "code",
   "execution_count": 31,
   "metadata": {},
   "outputs": [],
   "source": [
    "df = s.read.csv('stock.csv', inferSchema=True, header=True)"
   ]
  },
  {
   "cell_type": "code",
   "execution_count": 32,
   "metadata": {},
   "outputs": [
    {
     "name": "stdout",
     "output_type": "stream",
     "text": [
      "+----------+------+\n",
      "|   company|volume|\n",
      "+----------+------+\n",
      "|      Katz|    89|\n",
      "|Browseblab|    55|\n",
      "|     Mynte|    12|\n",
      "|Jabbercube|    50|\n",
      "|     Eidel|    55|\n",
      "|  Realcube|    22|\n",
      "|  Blogtags|    73|\n",
      "|     Plajo|    91|\n",
      "|   Pixonyx|     5|\n",
      "|     Twiyo|    83|\n",
      "|      Yotz|    33|\n",
      "+----------+------+\n",
      "\n"
     ]
    }
   ],
   "source": [
    "df.filter('close < 50').select(['company', 'volume']).show()"
   ]
  },
  {
   "cell_type": "code",
   "execution_count": 35,
   "metadata": {},
   "outputs": [
    {
     "name": "stdout",
     "output_type": "stream",
     "text": [
      "+-------+----------+------------------+------------------+---------+-----------------+\n",
      "|summary|   company|              open|             close|     date|           volume|\n",
      "+-------+----------+------------------+------------------+---------+-----------------+\n",
      "|  count|        15|                15|                15|       15|               15|\n",
      "|   mean|      null| 63.92533333333334|47.102000000000004|     null|42.86666666666667|\n",
      "| stddev|      null|26.640761697247395|24.385204003364713|     null|30.91894164393329|\n",
      "|    min|Browseblab|             29.73|              4.52|1/10/2020|                2|\n",
      "|    max|  Wordware|             99.61|             76.43|9/27/2020|               98|\n",
      "+-------+----------+------------------+------------------+---------+-----------------+\n",
      "\n"
     ]
    }
   ],
   "source": [
    "df.filter('close < 50' and 'open > 20').describe().show()"
   ]
  },
  {
   "cell_type": "code",
   "execution_count": 37,
   "metadata": {},
   "outputs": [
    {
     "name": "stdout",
     "output_type": "stream",
     "text": [
      "+-------+-------+-----------------+-----------------+---------+------------------+\n",
      "|summary|company|             open|            close|     date|            volume|\n",
      "+-------+-------+-----------------+-----------------+---------+------------------+\n",
      "|  count|      5|                5|                5|        5|                 5|\n",
      "|   mean|   null|           57.322|           11.042|     null|              44.4|\n",
      "| stddev|   null|40.53015321954754|5.518556876575614|     null|28.218788067526926|\n",
      "|    min|  Eidel|            13.75|             4.52|10/4/2020|                12|\n",
      "|    max|  Twiyo|            99.61|            19.49| 8/8/2020|                83|\n",
      "+-------+-------+-----------------+-----------------+---------+------------------+\n",
      "\n"
     ]
    }
   ],
   "source": [
    "df.filter((df['close'] < 20) & (df['open'] > 10)).describe().show()"
   ]
  },
  {
   "cell_type": "code",
   "execution_count": 54,
   "metadata": {},
   "outputs": [
    {
     "data": {
      "text/plain": [
       "{'company': 'Eidel',\n",
       " 'open': 13.75,\n",
       " 'close': 8.39,\n",
       " 'date': '10/8/2020',\n",
       " 'volume': 55}"
      ]
     },
     "execution_count": 54,
     "metadata": {},
     "output_type": "execute_result"
    }
   ],
   "source": [
    "df.filter((df['open']  == 13.75)).collect()[0].asDict()"
   ]
  }
 ],
 "metadata": {
  "kernelspec": {
   "display_name": "Python 3",
   "language": "python",
   "name": "python3"
  },
  "language_info": {
   "codemirror_mode": {
    "name": "ipython",
    "version": 3
   },
   "file_extension": ".py",
   "mimetype": "text/x-python",
   "name": "python",
   "nbconvert_exporter": "python",
   "pygments_lexer": "ipython3",
   "version": "3.9.0"
  }
 },
 "nbformat": 4,
 "nbformat_minor": 4
}
